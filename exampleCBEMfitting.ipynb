{
 "cells": [
  {
   "cell_type": "markdown",
   "metadata": {},
   "source": [
    "Example Script for loading the sample data in 'Data/example.mat' and fitting a CBEM.\n",
    "\n",
    " K. W. Latimer,  F. Rieke, & J. W. Pillow (2019)\n",
    "[Inferring synaptic inputs from spikes with a conductance-based neural encoding model](https://elifesciences.org/articles/47012) eLife 8 (2019): e47012.\n",
    "\n"
   ]
  },
  {
   "cell_type": "code",
   "execution_count": null,
   "metadata": {},
   "outputs": [],
   "source": [
    "import pyCBEM.RGC_CBEM as cbem\n",
    "import numpy as np\n",
    "import h5py\n",
    "import matplotlib.pyplot as plt\n",
    "import jax.scipy.optimize as jso"
   ]
  },
  {
   "cell_type": "code",
   "execution_count": null,
   "metadata": {},
   "outputs": [],
   "source": [
    "# load stimulus and spike times from the matlab file\n",
    "filename = \"Data/example.mat\"\n",
    "with h5py.File(filename, \"r\") as f:\n",
    "    # Get the data\n",
    "    stimulus  = np.array(list(f[\"X\"]))[0];\n",
    "    spkVector = np.array(list(f[\"Y\"]))[0];\n",
    "spkTimes_bins = np.where(spkVector > 0)[0];"
   ]
  },
  {
   "cell_type": "code",
   "execution_count": null,
   "metadata": {},
   "outputs": [],
   "source": [
    "# create CBEM object\n",
    "myCBEM = cbem.CBEM_basic(0.1); # bin size is 0.1 ms\n",
    "\n",
    "# set stimulus & spike times\n",
    "window = range(12000,70000); # range of bins to use \n",
    "myCBEM.setObservations(stimulus, spkTimes_bins, window);"
   ]
  },
  {
   "cell_type": "code",
   "execution_count": null,
   "metadata": {},
   "outputs": [],
   "source": [
    "# fits the model\n",
    "\n",
    "# initialize parameters\n",
    "myCBEM.randomizeParameters()\n",
    "B_init = myCBEM.vectorizeParameters()\n",
    "\n",
    "# optimize\n",
    "ff = lambda x : myCBEM.vectorizedPenalizedNegLogLike(x);\n",
    "results = jso.minimize(ff, B_init, method=\"BFGS\");\n",
    "\n",
    "fun_init  = ff(B_init);\n",
    "fun_final =ff(results.x);\n",
    "print(\"initial penalized log likelihood: \" + str(fun_init));\n",
    "print(\"final penalized log likelihood: \" + str(fun_final));\n",
    "\n",
    "# set the CBEM's parameters to the fitted values\n",
    "myCBEM.setParametersFromVector(results.x)"
   ]
  },
  {
   "cell_type": "code",
   "execution_count": null,
   "metadata": {},
   "outputs": [],
   "source": [
    "# plot the fitted filters\n",
    "tts = np.arange(1, myCBEM.basis_conductance.shape[0]+1)*myCBEM.binSize_ms;\n",
    "plt.plot(tts, np.zeros(tts.size), \"k:\")\n",
    "plt.plot(tts, myCBEM.getConductanceFilter(0), label=\"k_e\");\n",
    "plt.plot(tts, myCBEM.getConductanceFilter(1), label=\"k_i\");\n",
    "plt.xlabel(\"time (ms)\");\n",
    "plt.ylabel(\"weight\");\n",
    "plt.title(\"conductance filters\");\n",
    "plt.legend();\n",
    "plt.show();\n",
    "\n",
    "tts = np.arange(1, myCBEM.basis_hspk.shape[0]+1)*myCBEM.binSize_ms;\n",
    "plt.plot(tts, np.zeros(tts.size), \"k:\")\n",
    "plt.plot(tts, myCBEM.getSpikeHistoryFilter(), label=\"h_spk\");\n",
    "plt.xlabel(\"time post-spike (ms)\");\n",
    "plt.ylabel(\"weight\");\n",
    "plt.legend();\n",
    "plt.title(\"spike history filter\");\n",
    "plt.show();"
   ]
  },
  {
   "cell_type": "code",
   "execution_count": null,
   "metadata": {},
   "outputs": [],
   "source": [
    "# plot the fitted spike rate over the spike times\n",
    "spikeRate = myCBEM.getSpikeRate()\n",
    "pltLength_bins = 10000;\n",
    "plt.plot(np.arange(pltLength_bins)*myCBEM.binSize_ms, myCBEM.Y[0:pltLength_bins], \"k\", label=[\"sps\"], linewidth=0.1)\n",
    "plt.plot(np.arange(pltLength_bins)*myCBEM.binSize_ms, spikeRate[0:pltLength_bins] / 1e3, label=[\"sr\"])\n",
    "plt.xlabel('time (ms)');\n",
    "plt.ylabel('spike rate (sp/ms')\n",
    "plt.show()"
   ]
  },
  {
   "cell_type": "code",
   "execution_count": null,
   "metadata": {},
   "outputs": [],
   "source": [
    "# plot the fitted conductances over the spike times\n",
    "gs = myCBEM.getConductances()\n",
    "pltLength_bins = 10000;\n",
    "plt.plot(np.arange(pltLength_bins)*myCBEM.binSize_ms, myCBEM.Y[0:pltLength_bins]*50, \"k\", linewidth=0.1) # scale spike time vector so it's visible\n",
    "plt.plot(np.arange(pltLength_bins)*myCBEM.binSize_ms  ,gs[0:pltLength_bins,:], label=[\"g_e\", \"g_i\"])\n",
    "plt.xlabel('time (ms)');\n",
    "plt.ylabel('conductance')\n",
    "plt.legend()\n",
    "plt.show()"
   ]
  },
  {
   "cell_type": "code",
   "execution_count": null,
   "metadata": {},
   "outputs": [],
   "source": [
    "# simulate some spike trains from fit (a test stimulus could be used by calling the myCBEM.setObservations function again)\n",
    "# THIS FUNCTION IS REALLY SLOW! I haven't done any profiling or changes (like trying numpy instead of Jax) to make it faster.\n",
    "Y_init = np.zeros((55000,2)); # initial part of the 2 simulated spike trains (for demo purposes, this assumes no spiking in that window. I made the window big to only simulate a small segment.)\n",
    "Y_all = myCBEM.simulateSpikeTrains(Y_init);\n",
    "    # Y_all is vectorized spike times (T x N array of ones and zeros)\n",
    "plt.plot(Y_all, linewidth=0.1);\n",
    "plt.show();"
   ]
  }
 ],
 "metadata": {
  "interpreter": {
   "hash": "1f68844612b5fd57525ebf8ccacb6c6a7b9943b41ba89992176fd1b868e96b4c"
  },
  "kernelspec": {
   "display_name": "Python 3.9.7 ('base')",
   "language": "python",
   "name": "python3"
  },
  "language_info": {
   "codemirror_mode": {
    "name": "ipython",
    "version": 3
   },
   "file_extension": ".py",
   "mimetype": "text/x-python",
   "name": "python",
   "nbconvert_exporter": "python",
   "pygments_lexer": "ipython3",
   "version": "3.9.7"
  },
  "orig_nbformat": 4
 },
 "nbformat": 4,
 "nbformat_minor": 2
}
